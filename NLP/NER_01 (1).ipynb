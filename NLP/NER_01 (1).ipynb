{
 "cells": [
  {
   "cell_type": "markdown",
   "id": "9ccc4e7f",
   "metadata": {},
   "source": [
    "### using Spacy"
   ]
  },
  {
   "cell_type": "code",
   "execution_count": 2,
   "id": "cb32ab06",
   "metadata": {},
   "outputs": [
    {
     "name": "stderr",
     "output_type": "stream",
     "text": [
      "C:\\Users\\Lenovo\\anaconda3\\lib\\site-packages\\requests\\__init__.py:102: RequestsDependencyWarning: urllib3 (1.26.9) or chardet (5.1.0)/charset_normalizer (2.0.4) doesn't match a supported version!\n",
      "  warnings.warn(\"urllib3 ({}) or chardet ({})/charset_normalizer ({}) doesn't match a supported \"\n"
     ]
    }
   ],
   "source": [
    "import spacy"
   ]
  },
  {
   "cell_type": "code",
   "execution_count": 3,
   "id": "0bb5fe36",
   "metadata": {},
   "outputs": [],
   "source": [
    "nlp=spacy.load('en_core_web_sm')"
   ]
  },
  {
   "cell_type": "code",
   "execution_count": 4,
   "id": "b5a0f36c",
   "metadata": {},
   "outputs": [
    {
     "data": {
      "text/plain": [
       "['tok2vec', 'tagger', 'parser', 'attribute_ruler', 'lemmatizer', 'ner']"
      ]
     },
     "execution_count": 4,
     "metadata": {},
     "output_type": "execute_result"
    }
   ],
   "source": [
    "nlp.pipe_names"
   ]
  },
  {
   "cell_type": "code",
   "execution_count": 5,
   "id": "fc007c47",
   "metadata": {},
   "outputs": [],
   "source": [
    "doc=nlp('Tesla Inc is going to acquire Twitter Inc for $ billion ')"
   ]
  },
  {
   "cell_type": "code",
   "execution_count": 6,
   "id": "45307e08",
   "metadata": {},
   "outputs": [
    {
     "name": "stdout",
     "output_type": "stream",
     "text": [
      "Tesla Inc | ORG | Companies, agencies, institutions, etc.\n",
      "Twitter Inc | ORG | Companies, agencies, institutions, etc.\n",
      "$ billion | MONEY | Monetary values, including unit\n"
     ]
    }
   ],
   "source": [
    "for x in doc.ents:\n",
    "    print(x.text, \"|\", x.label_, \"|\", spacy.explain(x.label_))"
   ]
  },
  {
   "cell_type": "markdown",
   "id": "493891cd",
   "metadata": {},
   "source": [
    "#### Visualize\n",
    "The displacy.render function from spaCy is used to visualize the named entities in a text. It generates a visual representation with colored highlights indicating the recognized entities and their respective categories."
   ]
  },
  {
   "cell_type": "code",
   "execution_count": 9,
   "id": "182bad69",
   "metadata": {},
   "outputs": [
    {
     "data": {
      "text/html": [
       "<span class=\"tex2jax_ignore\"><div class=\"entities\" style=\"line-height: 2.5; direction: ltr\">\n",
       "<mark class=\"entity\" style=\"background: #7aecec; padding: 0.45em 0.6em; margin: 0 0.25em; line-height: 1; border-radius: 0.35em;\">\n",
       "    Tesla Inc\n",
       "    <span style=\"font-size: 0.8em; font-weight: bold; line-height: 1; border-radius: 0.35em; vertical-align: middle; margin-left: 0.5rem\">ORG</span>\n",
       "</mark>\n",
       " is going to acquire \n",
       "<mark class=\"entity\" style=\"background: #7aecec; padding: 0.45em 0.6em; margin: 0 0.25em; line-height: 1; border-radius: 0.35em;\">\n",
       "    Twitter Inc\n",
       "    <span style=\"font-size: 0.8em; font-weight: bold; line-height: 1; border-radius: 0.35em; vertical-align: middle; margin-left: 0.5rem\">ORG</span>\n",
       "</mark>\n",
       " for \n",
       "<mark class=\"entity\" style=\"background: #e4e7d2; padding: 0.45em 0.6em; margin: 0 0.25em; line-height: 1; border-radius: 0.35em;\">\n",
       "    $ billion\n",
       "    <span style=\"font-size: 0.8em; font-weight: bold; line-height: 1; border-radius: 0.35em; vertical-align: middle; margin-left: 0.5rem\">MONEY</span>\n",
       "</mark>\n",
       " </div></span>"
      ],
      "text/plain": [
       "<IPython.core.display.HTML object>"
      ]
     },
     "metadata": {},
     "output_type": "display_data"
    }
   ],
   "source": [
    "\n",
    "from spacy import displacy\n",
    "displacy.render(doc, style='ent')"
   ]
  },
  {
   "cell_type": "code",
   "execution_count": 10,
   "id": "a49f395b",
   "metadata": {},
   "outputs": [
    {
     "data": {
      "text/plain": [
       "['CARDINAL',\n",
       " 'DATE',\n",
       " 'EVENT',\n",
       " 'FAC',\n",
       " 'GPE',\n",
       " 'LANGUAGE',\n",
       " 'LAW',\n",
       " 'LOC',\n",
       " 'MONEY',\n",
       " 'NORP',\n",
       " 'ORDINAL',\n",
       " 'ORG',\n",
       " 'PERCENT',\n",
       " 'PERSON',\n",
       " 'PRODUCT',\n",
       " 'QUANTITY',\n",
       " 'TIME',\n",
       " 'WORK_OF_ART']"
      ]
     },
     "execution_count": 10,
     "metadata": {},
     "output_type": "execute_result"
    }
   ],
   "source": [
    "#list of all entites\n",
    "nlp.pipe_labels['ner']"
   ]
  },
  {
   "cell_type": "code",
   "execution_count": 11,
   "id": "482deb11",
   "metadata": {},
   "outputs": [
    {
     "name": "stdout",
     "output_type": "stream",
     "text": [
      "Google\n",
      "Google | ORG | Companies, agencies, institutions, etc.\n"
     ]
    }
   ],
   "source": [
    "doc2=nlp('Sundar  is manager at Google.')\n",
    "for x in doc2.ents:\n",
    "    print(x)\n",
    "    print(x.text, \"|\", x.label_, \"|\", spacy.explain(x.label_))"
   ]
  },
  {
   "cell_type": "code",
   "execution_count": 12,
   "id": "e8241a60",
   "metadata": {},
   "outputs": [
    {
     "name": "stdout",
     "output_type": "stream",
     "text": [
      "Sundar Pichai | PERSON | People, including fictional\n",
      "Google | ORG | Companies, agencies, institutions, etc.\n"
     ]
    }
   ],
   "source": [
    "doc2=nlp('Sundar Pichai  is manager at Google.')\n",
    "for x in doc2.ents:\n",
    "    print(x.text, \"|\", x.label_, \"|\", spacy.explain(x.label_))"
   ]
  },
  {
   "cell_type": "code",
   "execution_count": 13,
   "id": "3ae6ee66",
   "metadata": {},
   "outputs": [
    {
     "name": "stdout",
     "output_type": "stream",
     "text": [
      "Twitter | PERSON\n",
      "$ billion | MONEY\n"
     ]
    }
   ],
   "source": [
    "#customize entites\n",
    "doc=nlp('Tesla is going to acquire Twitter for $ billion ')\n",
    "for ent in doc.ents:\n",
    "    print(ent.text, \"|\", ent.label_)"
   ]
  },
  {
   "cell_type": "code",
   "execution_count": 14,
   "id": "5cb736cd",
   "metadata": {},
   "outputs": [],
   "source": [
    "from spacy.tokens import Span\n",
    "s1=Span(doc, 0,1, label=\"ORG\")\n",
    "s2=Span(doc, 5,6, label=\"ORG\")"
   ]
  },
  {
   "cell_type": "code",
   "execution_count": 15,
   "id": "a2dca5f4",
   "metadata": {},
   "outputs": [],
   "source": [
    "doc.set_ents([s1, s2], default='unmodified')"
   ]
  },
  {
   "cell_type": "code",
   "execution_count": 16,
   "id": "d35e4d26",
   "metadata": {},
   "outputs": [
    {
     "name": "stdout",
     "output_type": "stream",
     "text": [
      "Tesla | ORG\n",
      "Twitter | ORG\n",
      "$ billion | MONEY\n"
     ]
    }
   ],
   "source": [
    "for ent in doc.ents:\n",
    "    print(ent.text, \"|\", ent.label_)"
   ]
  },
  {
   "cell_type": "markdown",
   "id": "b9f66bdb",
   "metadata": {},
   "source": [
    "### using NLTK"
   ]
  },
  {
   "cell_type": "code",
   "execution_count": 17,
   "id": "2083c04e",
   "metadata": {},
   "outputs": [
    {
     "name": "stderr",
     "output_type": "stream",
     "text": [
      "[nltk_data] Downloading package punkt to\n",
      "[nltk_data]     C:\\Users\\Lenovo\\AppData\\Roaming\\nltk_data...\n",
      "[nltk_data]   Package punkt is already up-to-date!\n",
      "[nltk_data] Downloading package averaged_perceptron_tagger to\n",
      "[nltk_data]     C:\\Users\\Lenovo\\AppData\\Roaming\\nltk_data...\n",
      "[nltk_data]   Package averaged_perceptron_tagger is already up-to-\n",
      "[nltk_data]       date!\n",
      "[nltk_data] Downloading package maxent_ne_chunker to\n",
      "[nltk_data]     C:\\Users\\Lenovo\\AppData\\Roaming\\nltk_data...\n",
      "[nltk_data]   Package maxent_ne_chunker is already up-to-date!\n",
      "[nltk_data] Downloading package words to\n",
      "[nltk_data]     C:\\Users\\Lenovo\\AppData\\Roaming\\nltk_data...\n",
      "[nltk_data]   Package words is already up-to-date!\n"
     ]
    },
    {
     "data": {
      "text/plain": [
       "True"
      ]
     },
     "execution_count": 17,
     "metadata": {},
     "output_type": "execute_result"
    }
   ],
   "source": [
    "import nltk\n",
    "nltk.download('punkt')\n",
    "nltk.download('averaged_perceptron_tagger')\n",
    "nltk.download('maxent_ne_chunker')\n",
    "nltk.download('words')"
   ]
  },
  {
   "cell_type": "code",
   "execution_count": 19,
   "id": "d2331391",
   "metadata": {},
   "outputs": [
    {
     "name": "stdout",
     "output_type": "stream",
     "text": [
      "['Apple', 'Inc', 'American', 'multinational', 'technology', 'company', 'headquartered', 'Cupertino', 'California']\n"
     ]
    }
   ],
   "source": [
    "from nltk.tokenize import RegexpTokenizer\n",
    "from nltk.corpus import stopwords# Fetch the stop words\n",
    "stop_words = set(stopwords.words('english'))\n",
    "text = \"Apple Inc. is an American multinational technology company headquartered in Cupertino, California.\"\n",
    "tokenizer = RegexpTokenizer(r'\\w+')\n",
    "word_tokens = tokenizer.tokenize(text)# remove stop words\n",
    "filtered_words = [word for word in word_tokens if word.lower() not in stop_words]\n",
    "print(filtered_words)"
   ]
  },
  {
   "cell_type": "code",
   "execution_count": 21,
   "id": "9f53df85",
   "metadata": {},
   "outputs": [
    {
     "name": "stdout",
     "output_type": "stream",
     "text": [
      "[('Apple', 'NNP'), ('Inc', 'NNP'), ('American', 'NNP'), ('multinational', 'NNP'), ('technology', 'NN'), ('company', 'NN'), ('headquartered', 'VBD'), ('Cupertino', 'NNP'), ('California', 'NNP')]\n"
     ]
    }
   ],
   "source": [
    "## pos tagging\n",
    "from nltk import pos_tag\n",
    "pos_tags = pos_tag(filtered_words)\n",
    "print(pos_tags)"
   ]
  },
  {
   "cell_type": "code",
   "execution_count": 22,
   "id": "a05a233f",
   "metadata": {},
   "outputs": [
    {
     "name": "stdout",
     "output_type": "stream",
     "text": [
      "(S\n",
      "  (PERSON Apple/NNP)\n",
      "  (ORGANIZATION Inc/NNP American/NNP)\n",
      "  multinational/NNP\n",
      "  technology/NN\n",
      "  company/NN\n",
      "  headquartered/VBD\n",
      "  (PERSON Cupertino/NNP California/NNP))\n"
     ]
    }
   ],
   "source": [
    "## NER\n",
    "from nltk import ne_chunk\n",
    "named_entities = ne_chunk(pos_tags)\n",
    "print(named_entities)"
   ]
  }
 ],
 "metadata": {
  "kernelspec": {
   "display_name": "Python 3 (ipykernel)",
   "language": "python",
   "name": "python3"
  },
  "language_info": {
   "codemirror_mode": {
    "name": "ipython",
    "version": 3
   },
   "file_extension": ".py",
   "mimetype": "text/x-python",
   "name": "python",
   "nbconvert_exporter": "python",
   "pygments_lexer": "ipython3",
   "version": "3.9.12"
  }
 },
 "nbformat": 4,
 "nbformat_minor": 5
}
